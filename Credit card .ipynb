{
 "cells": [
  {
   "cell_type": "code",
   "execution_count": 1,
   "id": "95b240c5",
   "metadata": {},
   "outputs": [],
   "source": [
    "import numpy as np\n",
    "import pandas as pd\n",
    "import matplotlib.pyplot as plt\n",
    "import seaborn as sns\n",
    "%matplotlib inline\n",
    "import warnings\n",
    "warnings.filterwarnings('ignore')\n",
    "\n"
   ]
  },
  {
   "cell_type": "code",
   "execution_count": 2,
   "id": "592b4580",
   "metadata": {},
   "outputs": [
    {
     "data": {
      "text/html": [
       "<div>\n",
       "<style scoped>\n",
       "    .dataframe tbody tr th:only-of-type {\n",
       "        vertical-align: middle;\n",
       "    }\n",
       "\n",
       "    .dataframe tbody tr th {\n",
       "        vertical-align: top;\n",
       "    }\n",
       "\n",
       "    .dataframe thead th {\n",
       "        text-align: right;\n",
       "    }\n",
       "</style>\n",
       "<table border=\"1\" class=\"dataframe\">\n",
       "  <thead>\n",
       "    <tr style=\"text-align: right;\">\n",
       "      <th></th>\n",
       "      <th>Time</th>\n",
       "      <th>V1</th>\n",
       "      <th>V2</th>\n",
       "      <th>V3</th>\n",
       "      <th>V4</th>\n",
       "      <th>V5</th>\n",
       "      <th>V6</th>\n",
       "      <th>V7</th>\n",
       "      <th>V8</th>\n",
       "      <th>V9</th>\n",
       "      <th>V10</th>\n",
       "      <th>V11</th>\n",
       "      <th>V12</th>\n",
       "      <th>V13</th>\n",
       "      <th>V14</th>\n",
       "      <th>V15</th>\n",
       "      <th>V16</th>\n",
       "      <th>V17</th>\n",
       "      <th>V18</th>\n",
       "      <th>V19</th>\n",
       "      <th>V20</th>\n",
       "      <th>V21</th>\n",
       "      <th>V22</th>\n",
       "      <th>V23</th>\n",
       "      <th>V24</th>\n",
       "      <th>V25</th>\n",
       "      <th>V26</th>\n",
       "      <th>V27</th>\n",
       "      <th>V28</th>\n",
       "      <th>Amount</th>\n",
       "      <th>Class</th>\n",
       "    </tr>\n",
       "  </thead>\n",
       "  <tbody>\n",
       "    <tr>\n",
       "      <th>0</th>\n",
       "      <td>0.0</td>\n",
       "      <td>-1.359807</td>\n",
       "      <td>-0.072781</td>\n",
       "      <td>2.536347</td>\n",
       "      <td>1.378155</td>\n",
       "      <td>-0.338321</td>\n",
       "      <td>0.462388</td>\n",
       "      <td>0.239599</td>\n",
       "      <td>0.098698</td>\n",
       "      <td>0.363787</td>\n",
       "      <td>0.090794</td>\n",
       "      <td>-0.551600</td>\n",
       "      <td>-0.617801</td>\n",
       "      <td>-0.991390</td>\n",
       "      <td>-0.311169</td>\n",
       "      <td>1.468177</td>\n",
       "      <td>-0.470401</td>\n",
       "      <td>0.207971</td>\n",
       "      <td>0.025791</td>\n",
       "      <td>0.403993</td>\n",
       "      <td>0.251412</td>\n",
       "      <td>-0.018307</td>\n",
       "      <td>0.277838</td>\n",
       "      <td>-0.110474</td>\n",
       "      <td>0.066928</td>\n",
       "      <td>0.128539</td>\n",
       "      <td>-0.189115</td>\n",
       "      <td>0.133558</td>\n",
       "      <td>-0.021053</td>\n",
       "      <td>149.62</td>\n",
       "      <td>0</td>\n",
       "    </tr>\n",
       "    <tr>\n",
       "      <th>1</th>\n",
       "      <td>0.0</td>\n",
       "      <td>1.191857</td>\n",
       "      <td>0.266151</td>\n",
       "      <td>0.166480</td>\n",
       "      <td>0.448154</td>\n",
       "      <td>0.060018</td>\n",
       "      <td>-0.082361</td>\n",
       "      <td>-0.078803</td>\n",
       "      <td>0.085102</td>\n",
       "      <td>-0.255425</td>\n",
       "      <td>-0.166974</td>\n",
       "      <td>1.612727</td>\n",
       "      <td>1.065235</td>\n",
       "      <td>0.489095</td>\n",
       "      <td>-0.143772</td>\n",
       "      <td>0.635558</td>\n",
       "      <td>0.463917</td>\n",
       "      <td>-0.114805</td>\n",
       "      <td>-0.183361</td>\n",
       "      <td>-0.145783</td>\n",
       "      <td>-0.069083</td>\n",
       "      <td>-0.225775</td>\n",
       "      <td>-0.638672</td>\n",
       "      <td>0.101288</td>\n",
       "      <td>-0.339846</td>\n",
       "      <td>0.167170</td>\n",
       "      <td>0.125895</td>\n",
       "      <td>-0.008983</td>\n",
       "      <td>0.014724</td>\n",
       "      <td>2.69</td>\n",
       "      <td>0</td>\n",
       "    </tr>\n",
       "    <tr>\n",
       "      <th>2</th>\n",
       "      <td>1.0</td>\n",
       "      <td>-1.358354</td>\n",
       "      <td>-1.340163</td>\n",
       "      <td>1.773209</td>\n",
       "      <td>0.379780</td>\n",
       "      <td>-0.503198</td>\n",
       "      <td>1.800499</td>\n",
       "      <td>0.791461</td>\n",
       "      <td>0.247676</td>\n",
       "      <td>-1.514654</td>\n",
       "      <td>0.207643</td>\n",
       "      <td>0.624501</td>\n",
       "      <td>0.066084</td>\n",
       "      <td>0.717293</td>\n",
       "      <td>-0.165946</td>\n",
       "      <td>2.345865</td>\n",
       "      <td>-2.890083</td>\n",
       "      <td>1.109969</td>\n",
       "      <td>-0.121359</td>\n",
       "      <td>-2.261857</td>\n",
       "      <td>0.524980</td>\n",
       "      <td>0.247998</td>\n",
       "      <td>0.771679</td>\n",
       "      <td>0.909412</td>\n",
       "      <td>-0.689281</td>\n",
       "      <td>-0.327642</td>\n",
       "      <td>-0.139097</td>\n",
       "      <td>-0.055353</td>\n",
       "      <td>-0.059752</td>\n",
       "      <td>378.66</td>\n",
       "      <td>0</td>\n",
       "    </tr>\n",
       "    <tr>\n",
       "      <th>3</th>\n",
       "      <td>1.0</td>\n",
       "      <td>-0.966272</td>\n",
       "      <td>-0.185226</td>\n",
       "      <td>1.792993</td>\n",
       "      <td>-0.863291</td>\n",
       "      <td>-0.010309</td>\n",
       "      <td>1.247203</td>\n",
       "      <td>0.237609</td>\n",
       "      <td>0.377436</td>\n",
       "      <td>-1.387024</td>\n",
       "      <td>-0.054952</td>\n",
       "      <td>-0.226487</td>\n",
       "      <td>0.178228</td>\n",
       "      <td>0.507757</td>\n",
       "      <td>-0.287924</td>\n",
       "      <td>-0.631418</td>\n",
       "      <td>-1.059647</td>\n",
       "      <td>-0.684093</td>\n",
       "      <td>1.965775</td>\n",
       "      <td>-1.232622</td>\n",
       "      <td>-0.208038</td>\n",
       "      <td>-0.108300</td>\n",
       "      <td>0.005274</td>\n",
       "      <td>-0.190321</td>\n",
       "      <td>-1.175575</td>\n",
       "      <td>0.647376</td>\n",
       "      <td>-0.221929</td>\n",
       "      <td>0.062723</td>\n",
       "      <td>0.061458</td>\n",
       "      <td>123.50</td>\n",
       "      <td>0</td>\n",
       "    </tr>\n",
       "    <tr>\n",
       "      <th>4</th>\n",
       "      <td>2.0</td>\n",
       "      <td>-1.158233</td>\n",
       "      <td>0.877737</td>\n",
       "      <td>1.548718</td>\n",
       "      <td>0.403034</td>\n",
       "      <td>-0.407193</td>\n",
       "      <td>0.095921</td>\n",
       "      <td>0.592941</td>\n",
       "      <td>-0.270533</td>\n",
       "      <td>0.817739</td>\n",
       "      <td>0.753074</td>\n",
       "      <td>-0.822843</td>\n",
       "      <td>0.538196</td>\n",
       "      <td>1.345852</td>\n",
       "      <td>-1.119670</td>\n",
       "      <td>0.175121</td>\n",
       "      <td>-0.451449</td>\n",
       "      <td>-0.237033</td>\n",
       "      <td>-0.038195</td>\n",
       "      <td>0.803487</td>\n",
       "      <td>0.408542</td>\n",
       "      <td>-0.009431</td>\n",
       "      <td>0.798278</td>\n",
       "      <td>-0.137458</td>\n",
       "      <td>0.141267</td>\n",
       "      <td>-0.206010</td>\n",
       "      <td>0.502292</td>\n",
       "      <td>0.219422</td>\n",
       "      <td>0.215153</td>\n",
       "      <td>69.99</td>\n",
       "      <td>0</td>\n",
       "    </tr>\n",
       "  </tbody>\n",
       "</table>\n",
       "</div>"
      ],
      "text/plain": [
       "   Time        V1        V2        V3        V4        V5        V6        V7  \\\n",
       "0   0.0 -1.359807 -0.072781  2.536347  1.378155 -0.338321  0.462388  0.239599   \n",
       "1   0.0  1.191857  0.266151  0.166480  0.448154  0.060018 -0.082361 -0.078803   \n",
       "2   1.0 -1.358354 -1.340163  1.773209  0.379780 -0.503198  1.800499  0.791461   \n",
       "3   1.0 -0.966272 -0.185226  1.792993 -0.863291 -0.010309  1.247203  0.237609   \n",
       "4   2.0 -1.158233  0.877737  1.548718  0.403034 -0.407193  0.095921  0.592941   \n",
       "\n",
       "         V8        V9       V10       V11       V12       V13       V14  \\\n",
       "0  0.098698  0.363787  0.090794 -0.551600 -0.617801 -0.991390 -0.311169   \n",
       "1  0.085102 -0.255425 -0.166974  1.612727  1.065235  0.489095 -0.143772   \n",
       "2  0.247676 -1.514654  0.207643  0.624501  0.066084  0.717293 -0.165946   \n",
       "3  0.377436 -1.387024 -0.054952 -0.226487  0.178228  0.507757 -0.287924   \n",
       "4 -0.270533  0.817739  0.753074 -0.822843  0.538196  1.345852 -1.119670   \n",
       "\n",
       "        V15       V16       V17       V18       V19       V20       V21  \\\n",
       "0  1.468177 -0.470401  0.207971  0.025791  0.403993  0.251412 -0.018307   \n",
       "1  0.635558  0.463917 -0.114805 -0.183361 -0.145783 -0.069083 -0.225775   \n",
       "2  2.345865 -2.890083  1.109969 -0.121359 -2.261857  0.524980  0.247998   \n",
       "3 -0.631418 -1.059647 -0.684093  1.965775 -1.232622 -0.208038 -0.108300   \n",
       "4  0.175121 -0.451449 -0.237033 -0.038195  0.803487  0.408542 -0.009431   \n",
       "\n",
       "        V22       V23       V24       V25       V26       V27       V28  \\\n",
       "0  0.277838 -0.110474  0.066928  0.128539 -0.189115  0.133558 -0.021053   \n",
       "1 -0.638672  0.101288 -0.339846  0.167170  0.125895 -0.008983  0.014724   \n",
       "2  0.771679  0.909412 -0.689281 -0.327642 -0.139097 -0.055353 -0.059752   \n",
       "3  0.005274 -0.190321 -1.175575  0.647376 -0.221929  0.062723  0.061458   \n",
       "4  0.798278 -0.137458  0.141267 -0.206010  0.502292  0.219422  0.215153   \n",
       "\n",
       "   Amount  Class  \n",
       "0  149.62      0  \n",
       "1    2.69      0  \n",
       "2  378.66      0  \n",
       "3  123.50      0  \n",
       "4   69.99      0  "
      ]
     },
     "execution_count": 2,
     "metadata": {},
     "output_type": "execute_result"
    }
   ],
   "source": [
    "df_CD = pd.read_csv('creditcard.csv')\n",
    "pd.set_option('display.max_columns',100)\n",
    "\n",
    "df_CD.head()"
   ]
  },
  {
   "cell_type": "code",
   "execution_count": 3,
   "id": "e94d08a7",
   "metadata": {},
   "outputs": [
    {
     "data": {
      "text/plain": [
       "(284807, 31)"
      ]
     },
     "execution_count": 3,
     "metadata": {},
     "output_type": "execute_result"
    }
   ],
   "source": [
    "df_CD.shape"
   ]
  },
  {
   "cell_type": "code",
   "execution_count": 4,
   "id": "85118656",
   "metadata": {},
   "outputs": [
    {
     "name": "stdout",
     "output_type": "stream",
     "text": [
      "<class 'pandas.core.frame.DataFrame'>\n",
      "RangeIndex: 284807 entries, 0 to 284806\n",
      "Data columns (total 31 columns):\n",
      " #   Column  Non-Null Count   Dtype  \n",
      "---  ------  --------------   -----  \n",
      " 0   Time    284807 non-null  float64\n",
      " 1   V1      284807 non-null  float64\n",
      " 2   V2      284807 non-null  float64\n",
      " 3   V3      284807 non-null  float64\n",
      " 4   V4      284807 non-null  float64\n",
      " 5   V5      284807 non-null  float64\n",
      " 6   V6      284807 non-null  float64\n",
      " 7   V7      284807 non-null  float64\n",
      " 8   V8      284807 non-null  float64\n",
      " 9   V9      284807 non-null  float64\n",
      " 10  V10     284807 non-null  float64\n",
      " 11  V11     284807 non-null  float64\n",
      " 12  V12     284807 non-null  float64\n",
      " 13  V13     284807 non-null  float64\n",
      " 14  V14     284807 non-null  float64\n",
      " 15  V15     284807 non-null  float64\n",
      " 16  V16     284807 non-null  float64\n",
      " 17  V17     284807 non-null  float64\n",
      " 18  V18     284807 non-null  float64\n",
      " 19  V19     284807 non-null  float64\n",
      " 20  V20     284807 non-null  float64\n",
      " 21  V21     284807 non-null  float64\n",
      " 22  V22     284807 non-null  float64\n",
      " 23  V23     284807 non-null  float64\n",
      " 24  V24     284807 non-null  float64\n",
      " 25  V25     284807 non-null  float64\n",
      " 26  V26     284807 non-null  float64\n",
      " 27  V27     284807 non-null  float64\n",
      " 28  V28     284807 non-null  float64\n",
      " 29  Amount  284807 non-null  float64\n",
      " 30  Class   284807 non-null  int64  \n",
      "dtypes: float64(30), int64(1)\n",
      "memory usage: 67.4 MB\n"
     ]
    }
   ],
   "source": [
    "df_CD.info()"
   ]
  },
  {
   "cell_type": "code",
   "execution_count": 5,
   "id": "0fe50b23",
   "metadata": {},
   "outputs": [
    {
     "data": {
      "text/plain": [
       "Time      0\n",
       "V1        0\n",
       "V2        0\n",
       "V3        0\n",
       "V4        0\n",
       "V5        0\n",
       "V6        0\n",
       "V7        0\n",
       "V8        0\n",
       "V9        0\n",
       "V10       0\n",
       "V11       0\n",
       "V12       0\n",
       "V13       0\n",
       "V14       0\n",
       "V15       0\n",
       "V16       0\n",
       "V17       0\n",
       "V18       0\n",
       "V19       0\n",
       "V20       0\n",
       "V21       0\n",
       "V22       0\n",
       "V23       0\n",
       "V24       0\n",
       "V25       0\n",
       "V26       0\n",
       "V27       0\n",
       "V28       0\n",
       "Amount    0\n",
       "Class     0\n",
       "dtype: int64"
      ]
     },
     "execution_count": 5,
     "metadata": {},
     "output_type": "execute_result"
    }
   ],
   "source": [
    "df_CD.isnull().sum()"
   ]
  },
  {
   "cell_type": "code",
   "execution_count": 6,
   "id": "326f4221",
   "metadata": {},
   "outputs": [
    {
     "data": {
      "text/plain": [
       "1081"
      ]
     },
     "execution_count": 6,
     "metadata": {},
     "output_type": "execute_result"
    }
   ],
   "source": [
    "df_CD.duplicated().sum()"
   ]
  },
  {
   "cell_type": "code",
   "execution_count": 7,
   "id": "fbf0baa2",
   "metadata": {},
   "outputs": [],
   "source": [
    "df_CD.drop_duplicates(inplace=True)"
   ]
  },
  {
   "cell_type": "code",
   "execution_count": 8,
   "id": "9c7c8e41",
   "metadata": {},
   "outputs": [
    {
     "data": {
      "text/html": [
       "<div>\n",
       "<style scoped>\n",
       "    .dataframe tbody tr th:only-of-type {\n",
       "        vertical-align: middle;\n",
       "    }\n",
       "\n",
       "    .dataframe tbody tr th {\n",
       "        vertical-align: top;\n",
       "    }\n",
       "\n",
       "    .dataframe thead th {\n",
       "        text-align: right;\n",
       "    }\n",
       "</style>\n",
       "<table border=\"1\" class=\"dataframe\">\n",
       "  <thead>\n",
       "    <tr style=\"text-align: right;\">\n",
       "      <th></th>\n",
       "      <th>Time</th>\n",
       "      <th>V1</th>\n",
       "      <th>V2</th>\n",
       "      <th>V3</th>\n",
       "      <th>V4</th>\n",
       "      <th>V5</th>\n",
       "      <th>V6</th>\n",
       "      <th>V7</th>\n",
       "      <th>V8</th>\n",
       "      <th>V9</th>\n",
       "      <th>V10</th>\n",
       "      <th>V11</th>\n",
       "      <th>V12</th>\n",
       "      <th>V13</th>\n",
       "      <th>V14</th>\n",
       "      <th>V15</th>\n",
       "      <th>V16</th>\n",
       "      <th>V17</th>\n",
       "      <th>V18</th>\n",
       "      <th>V19</th>\n",
       "      <th>V20</th>\n",
       "      <th>V21</th>\n",
       "      <th>V22</th>\n",
       "      <th>V23</th>\n",
       "      <th>V24</th>\n",
       "      <th>V25</th>\n",
       "      <th>V26</th>\n",
       "      <th>V27</th>\n",
       "      <th>V28</th>\n",
       "      <th>Amount</th>\n",
       "      <th>Class</th>\n",
       "    </tr>\n",
       "  </thead>\n",
       "  <tbody>\n",
       "    <tr>\n",
       "      <th>count</th>\n",
       "      <td>283726.000000</td>\n",
       "      <td>283726.000000</td>\n",
       "      <td>283726.000000</td>\n",
       "      <td>283726.000000</td>\n",
       "      <td>283726.000000</td>\n",
       "      <td>283726.000000</td>\n",
       "      <td>283726.000000</td>\n",
       "      <td>283726.000000</td>\n",
       "      <td>283726.000000</td>\n",
       "      <td>283726.000000</td>\n",
       "      <td>283726.000000</td>\n",
       "      <td>283726.000000</td>\n",
       "      <td>283726.000000</td>\n",
       "      <td>283726.000000</td>\n",
       "      <td>283726.000000</td>\n",
       "      <td>283726.000000</td>\n",
       "      <td>283726.000000</td>\n",
       "      <td>283726.000000</td>\n",
       "      <td>283726.000000</td>\n",
       "      <td>283726.000000</td>\n",
       "      <td>283726.000000</td>\n",
       "      <td>283726.000000</td>\n",
       "      <td>283726.000000</td>\n",
       "      <td>283726.000000</td>\n",
       "      <td>283726.000000</td>\n",
       "      <td>283726.000000</td>\n",
       "      <td>283726.000000</td>\n",
       "      <td>283726.000000</td>\n",
       "      <td>283726.000000</td>\n",
       "      <td>283726.000000</td>\n",
       "      <td>283726.000000</td>\n",
       "    </tr>\n",
       "    <tr>\n",
       "      <th>mean</th>\n",
       "      <td>94811.077600</td>\n",
       "      <td>0.005917</td>\n",
       "      <td>-0.004135</td>\n",
       "      <td>0.001613</td>\n",
       "      <td>-0.002966</td>\n",
       "      <td>0.001828</td>\n",
       "      <td>-0.001139</td>\n",
       "      <td>0.001801</td>\n",
       "      <td>-0.000854</td>\n",
       "      <td>-0.001596</td>\n",
       "      <td>-0.001441</td>\n",
       "      <td>0.000202</td>\n",
       "      <td>-0.000715</td>\n",
       "      <td>0.000603</td>\n",
       "      <td>0.000252</td>\n",
       "      <td>0.001043</td>\n",
       "      <td>0.001162</td>\n",
       "      <td>0.000170</td>\n",
       "      <td>0.001515</td>\n",
       "      <td>-0.000264</td>\n",
       "      <td>0.000187</td>\n",
       "      <td>-0.000371</td>\n",
       "      <td>-0.000015</td>\n",
       "      <td>0.000198</td>\n",
       "      <td>0.000214</td>\n",
       "      <td>-0.000232</td>\n",
       "      <td>0.000149</td>\n",
       "      <td>0.001763</td>\n",
       "      <td>0.000547</td>\n",
       "      <td>88.472687</td>\n",
       "      <td>0.001667</td>\n",
       "    </tr>\n",
       "    <tr>\n",
       "      <th>std</th>\n",
       "      <td>47481.047891</td>\n",
       "      <td>1.948026</td>\n",
       "      <td>1.646703</td>\n",
       "      <td>1.508682</td>\n",
       "      <td>1.414184</td>\n",
       "      <td>1.377008</td>\n",
       "      <td>1.331931</td>\n",
       "      <td>1.227664</td>\n",
       "      <td>1.179054</td>\n",
       "      <td>1.095492</td>\n",
       "      <td>1.076407</td>\n",
       "      <td>1.018720</td>\n",
       "      <td>0.994674</td>\n",
       "      <td>0.995430</td>\n",
       "      <td>0.952215</td>\n",
       "      <td>0.914894</td>\n",
       "      <td>0.873696</td>\n",
       "      <td>0.842507</td>\n",
       "      <td>0.837378</td>\n",
       "      <td>0.813379</td>\n",
       "      <td>0.769984</td>\n",
       "      <td>0.723909</td>\n",
       "      <td>0.724550</td>\n",
       "      <td>0.623702</td>\n",
       "      <td>0.605627</td>\n",
       "      <td>0.521220</td>\n",
       "      <td>0.482053</td>\n",
       "      <td>0.395744</td>\n",
       "      <td>0.328027</td>\n",
       "      <td>250.399437</td>\n",
       "      <td>0.040796</td>\n",
       "    </tr>\n",
       "    <tr>\n",
       "      <th>min</th>\n",
       "      <td>0.000000</td>\n",
       "      <td>-56.407510</td>\n",
       "      <td>-72.715728</td>\n",
       "      <td>-48.325589</td>\n",
       "      <td>-5.683171</td>\n",
       "      <td>-113.743307</td>\n",
       "      <td>-26.160506</td>\n",
       "      <td>-43.557242</td>\n",
       "      <td>-73.216718</td>\n",
       "      <td>-13.434066</td>\n",
       "      <td>-24.588262</td>\n",
       "      <td>-4.797473</td>\n",
       "      <td>-18.683715</td>\n",
       "      <td>-5.791881</td>\n",
       "      <td>-19.214325</td>\n",
       "      <td>-4.498945</td>\n",
       "      <td>-14.129855</td>\n",
       "      <td>-25.162799</td>\n",
       "      <td>-9.498746</td>\n",
       "      <td>-7.213527</td>\n",
       "      <td>-54.497720</td>\n",
       "      <td>-34.830382</td>\n",
       "      <td>-10.933144</td>\n",
       "      <td>-44.807735</td>\n",
       "      <td>-2.836627</td>\n",
       "      <td>-10.295397</td>\n",
       "      <td>-2.604551</td>\n",
       "      <td>-22.565679</td>\n",
       "      <td>-15.430084</td>\n",
       "      <td>0.000000</td>\n",
       "      <td>0.000000</td>\n",
       "    </tr>\n",
       "    <tr>\n",
       "      <th>25%</th>\n",
       "      <td>54204.750000</td>\n",
       "      <td>-0.915951</td>\n",
       "      <td>-0.600321</td>\n",
       "      <td>-0.889682</td>\n",
       "      <td>-0.850134</td>\n",
       "      <td>-0.689830</td>\n",
       "      <td>-0.769031</td>\n",
       "      <td>-0.552509</td>\n",
       "      <td>-0.208828</td>\n",
       "      <td>-0.644221</td>\n",
       "      <td>-0.535578</td>\n",
       "      <td>-0.761649</td>\n",
       "      <td>-0.406198</td>\n",
       "      <td>-0.647862</td>\n",
       "      <td>-0.425732</td>\n",
       "      <td>-0.581452</td>\n",
       "      <td>-0.466860</td>\n",
       "      <td>-0.483928</td>\n",
       "      <td>-0.498014</td>\n",
       "      <td>-0.456289</td>\n",
       "      <td>-0.211469</td>\n",
       "      <td>-0.228305</td>\n",
       "      <td>-0.542700</td>\n",
       "      <td>-0.161703</td>\n",
       "      <td>-0.354453</td>\n",
       "      <td>-0.317485</td>\n",
       "      <td>-0.326763</td>\n",
       "      <td>-0.070641</td>\n",
       "      <td>-0.052818</td>\n",
       "      <td>5.600000</td>\n",
       "      <td>0.000000</td>\n",
       "    </tr>\n",
       "    <tr>\n",
       "      <th>50%</th>\n",
       "      <td>84692.500000</td>\n",
       "      <td>0.020384</td>\n",
       "      <td>0.063949</td>\n",
       "      <td>0.179963</td>\n",
       "      <td>-0.022248</td>\n",
       "      <td>-0.053468</td>\n",
       "      <td>-0.275168</td>\n",
       "      <td>0.040859</td>\n",
       "      <td>0.021898</td>\n",
       "      <td>-0.052596</td>\n",
       "      <td>-0.093237</td>\n",
       "      <td>-0.032306</td>\n",
       "      <td>0.139072</td>\n",
       "      <td>-0.012927</td>\n",
       "      <td>0.050209</td>\n",
       "      <td>0.049299</td>\n",
       "      <td>0.067119</td>\n",
       "      <td>-0.065867</td>\n",
       "      <td>-0.002142</td>\n",
       "      <td>0.003367</td>\n",
       "      <td>-0.062353</td>\n",
       "      <td>-0.029441</td>\n",
       "      <td>0.006675</td>\n",
       "      <td>-0.011159</td>\n",
       "      <td>0.041016</td>\n",
       "      <td>0.016278</td>\n",
       "      <td>-0.052172</td>\n",
       "      <td>0.001479</td>\n",
       "      <td>0.011288</td>\n",
       "      <td>22.000000</td>\n",
       "      <td>0.000000</td>\n",
       "    </tr>\n",
       "    <tr>\n",
       "      <th>75%</th>\n",
       "      <td>139298.000000</td>\n",
       "      <td>1.316068</td>\n",
       "      <td>0.800283</td>\n",
       "      <td>1.026960</td>\n",
       "      <td>0.739647</td>\n",
       "      <td>0.612218</td>\n",
       "      <td>0.396792</td>\n",
       "      <td>0.570474</td>\n",
       "      <td>0.325704</td>\n",
       "      <td>0.595977</td>\n",
       "      <td>0.453619</td>\n",
       "      <td>0.739579</td>\n",
       "      <td>0.616976</td>\n",
       "      <td>0.663178</td>\n",
       "      <td>0.492336</td>\n",
       "      <td>0.650104</td>\n",
       "      <td>0.523512</td>\n",
       "      <td>0.398972</td>\n",
       "      <td>0.501956</td>\n",
       "      <td>0.458508</td>\n",
       "      <td>0.133207</td>\n",
       "      <td>0.186194</td>\n",
       "      <td>0.528245</td>\n",
       "      <td>0.147748</td>\n",
       "      <td>0.439738</td>\n",
       "      <td>0.350667</td>\n",
       "      <td>0.240261</td>\n",
       "      <td>0.091208</td>\n",
       "      <td>0.078276</td>\n",
       "      <td>77.510000</td>\n",
       "      <td>0.000000</td>\n",
       "    </tr>\n",
       "    <tr>\n",
       "      <th>max</th>\n",
       "      <td>172792.000000</td>\n",
       "      <td>2.454930</td>\n",
       "      <td>22.057729</td>\n",
       "      <td>9.382558</td>\n",
       "      <td>16.875344</td>\n",
       "      <td>34.801666</td>\n",
       "      <td>73.301626</td>\n",
       "      <td>120.589494</td>\n",
       "      <td>20.007208</td>\n",
       "      <td>15.594995</td>\n",
       "      <td>23.745136</td>\n",
       "      <td>12.018913</td>\n",
       "      <td>7.848392</td>\n",
       "      <td>7.126883</td>\n",
       "      <td>10.526766</td>\n",
       "      <td>8.877742</td>\n",
       "      <td>17.315112</td>\n",
       "      <td>9.253526</td>\n",
       "      <td>5.041069</td>\n",
       "      <td>5.591971</td>\n",
       "      <td>39.420904</td>\n",
       "      <td>27.202839</td>\n",
       "      <td>10.503090</td>\n",
       "      <td>22.528412</td>\n",
       "      <td>4.584549</td>\n",
       "      <td>7.519589</td>\n",
       "      <td>3.517346</td>\n",
       "      <td>31.612198</td>\n",
       "      <td>33.847808</td>\n",
       "      <td>25691.160000</td>\n",
       "      <td>1.000000</td>\n",
       "    </tr>\n",
       "  </tbody>\n",
       "</table>\n",
       "</div>"
      ],
      "text/plain": [
       "                Time             V1             V2             V3  \\\n",
       "count  283726.000000  283726.000000  283726.000000  283726.000000   \n",
       "mean    94811.077600       0.005917      -0.004135       0.001613   \n",
       "std     47481.047891       1.948026       1.646703       1.508682   \n",
       "min         0.000000     -56.407510     -72.715728     -48.325589   \n",
       "25%     54204.750000      -0.915951      -0.600321      -0.889682   \n",
       "50%     84692.500000       0.020384       0.063949       0.179963   \n",
       "75%    139298.000000       1.316068       0.800283       1.026960   \n",
       "max    172792.000000       2.454930      22.057729       9.382558   \n",
       "\n",
       "                  V4             V5             V6             V7  \\\n",
       "count  283726.000000  283726.000000  283726.000000  283726.000000   \n",
       "mean       -0.002966       0.001828      -0.001139       0.001801   \n",
       "std         1.414184       1.377008       1.331931       1.227664   \n",
       "min        -5.683171    -113.743307     -26.160506     -43.557242   \n",
       "25%        -0.850134      -0.689830      -0.769031      -0.552509   \n",
       "50%        -0.022248      -0.053468      -0.275168       0.040859   \n",
       "75%         0.739647       0.612218       0.396792       0.570474   \n",
       "max        16.875344      34.801666      73.301626     120.589494   \n",
       "\n",
       "                  V8             V9            V10            V11  \\\n",
       "count  283726.000000  283726.000000  283726.000000  283726.000000   \n",
       "mean       -0.000854      -0.001596      -0.001441       0.000202   \n",
       "std         1.179054       1.095492       1.076407       1.018720   \n",
       "min       -73.216718     -13.434066     -24.588262      -4.797473   \n",
       "25%        -0.208828      -0.644221      -0.535578      -0.761649   \n",
       "50%         0.021898      -0.052596      -0.093237      -0.032306   \n",
       "75%         0.325704       0.595977       0.453619       0.739579   \n",
       "max        20.007208      15.594995      23.745136      12.018913   \n",
       "\n",
       "                 V12            V13            V14            V15  \\\n",
       "count  283726.000000  283726.000000  283726.000000  283726.000000   \n",
       "mean       -0.000715       0.000603       0.000252       0.001043   \n",
       "std         0.994674       0.995430       0.952215       0.914894   \n",
       "min       -18.683715      -5.791881     -19.214325      -4.498945   \n",
       "25%        -0.406198      -0.647862      -0.425732      -0.581452   \n",
       "50%         0.139072      -0.012927       0.050209       0.049299   \n",
       "75%         0.616976       0.663178       0.492336       0.650104   \n",
       "max         7.848392       7.126883      10.526766       8.877742   \n",
       "\n",
       "                 V16            V17            V18            V19  \\\n",
       "count  283726.000000  283726.000000  283726.000000  283726.000000   \n",
       "mean        0.001162       0.000170       0.001515      -0.000264   \n",
       "std         0.873696       0.842507       0.837378       0.813379   \n",
       "min       -14.129855     -25.162799      -9.498746      -7.213527   \n",
       "25%        -0.466860      -0.483928      -0.498014      -0.456289   \n",
       "50%         0.067119      -0.065867      -0.002142       0.003367   \n",
       "75%         0.523512       0.398972       0.501956       0.458508   \n",
       "max        17.315112       9.253526       5.041069       5.591971   \n",
       "\n",
       "                 V20            V21            V22            V23  \\\n",
       "count  283726.000000  283726.000000  283726.000000  283726.000000   \n",
       "mean        0.000187      -0.000371      -0.000015       0.000198   \n",
       "std         0.769984       0.723909       0.724550       0.623702   \n",
       "min       -54.497720     -34.830382     -10.933144     -44.807735   \n",
       "25%        -0.211469      -0.228305      -0.542700      -0.161703   \n",
       "50%        -0.062353      -0.029441       0.006675      -0.011159   \n",
       "75%         0.133207       0.186194       0.528245       0.147748   \n",
       "max        39.420904      27.202839      10.503090      22.528412   \n",
       "\n",
       "                 V24            V25            V26            V27  \\\n",
       "count  283726.000000  283726.000000  283726.000000  283726.000000   \n",
       "mean        0.000214      -0.000232       0.000149       0.001763   \n",
       "std         0.605627       0.521220       0.482053       0.395744   \n",
       "min        -2.836627     -10.295397      -2.604551     -22.565679   \n",
       "25%        -0.354453      -0.317485      -0.326763      -0.070641   \n",
       "50%         0.041016       0.016278      -0.052172       0.001479   \n",
       "75%         0.439738       0.350667       0.240261       0.091208   \n",
       "max         4.584549       7.519589       3.517346      31.612198   \n",
       "\n",
       "                 V28         Amount          Class  \n",
       "count  283726.000000  283726.000000  283726.000000  \n",
       "mean        0.000547      88.472687       0.001667  \n",
       "std         0.328027     250.399437       0.040796  \n",
       "min       -15.430084       0.000000       0.000000  \n",
       "25%        -0.052818       5.600000       0.000000  \n",
       "50%         0.011288      22.000000       0.000000  \n",
       "75%         0.078276      77.510000       0.000000  \n",
       "max        33.847808   25691.160000       1.000000  "
      ]
     },
     "execution_count": 8,
     "metadata": {},
     "output_type": "execute_result"
    }
   ],
   "source": [
    "df_CD.describe()"
   ]
  },
  {
   "cell_type": "code",
   "execution_count": 9,
   "id": "8396f9d7",
   "metadata": {},
   "outputs": [
    {
     "data": {
      "text/plain": [
       "0    283253\n",
       "1       473\n",
       "Name: Class, dtype: int64"
      ]
     },
     "execution_count": 9,
     "metadata": {},
     "output_type": "execute_result"
    }
   ],
   "source": [
    "df_CD.Class.value_counts()\n",
    "# 0 is not fraud , 1 is fraud"
   ]
  },
  {
   "cell_type": "code",
   "execution_count": 10,
   "id": "1c149b56",
   "metadata": {},
   "outputs": [
    {
     "data": {
      "text/plain": [
       "283253"
      ]
     },
     "execution_count": 10,
     "metadata": {},
     "output_type": "execute_result"
    }
   ],
   "source": [
    "df_CD.Class.value_counts()[0]"
   ]
  },
  {
   "cell_type": "code",
   "execution_count": 11,
   "id": "e382c1ed",
   "metadata": {},
   "outputs": [
    {
     "data": {
      "text/plain": [
       "283726"
      ]
     },
     "execution_count": 11,
     "metadata": {},
     "output_type": "execute_result"
    }
   ],
   "source": [
    "df_CD.shape[0]"
   ]
  },
  {
   "cell_type": "code",
   "execution_count": 12,
   "id": "5ae79e43",
   "metadata": {},
   "outputs": [
    {
     "name": "stdout",
     "output_type": "stream",
     "text": [
      "Not fraud 99.83 %\n",
      "Fraud 0.17 %\n"
     ]
    }
   ],
   "source": [
    "#how much percentagee\n",
    "print('Not fraud',round(df_CD.Class.value_counts()[0]/df_CD.shape[0]*100,2),'%')\n",
    "print('Fraud',round(df_CD.Class.value_counts()[1]/df_CD.shape[0]*100,2),'%')"
   ]
  },
  {
   "cell_type": "code",
   "execution_count": 13,
   "id": "2ea35686",
   "metadata": {},
   "outputs": [
    {
     "data": {
      "image/png": "[encoded data removed]",
      "text/plain": [
       "<Figure size 432x288 with 1 Axes>"
      ]
     },
     "metadata": {
      "needs_background": "light"
     },
     "output_type": "display_data"
    }
   ],
   "source": [
    "#check class distriibution\n",
    "sns.countplot(data=df_CD,x='Class')\n",
    "plt.ylabel('No of traansaction',fontsize = 20)\n",
    "plt.title('count of fraud-0 and not fraud-1',fontsize = 20,color = 'Red');"
   ]
  },
  {
   "cell_type": "raw",
   "id": "01f0cea3",
   "metadata": {},
   "source": [
    "Summary:\n",
    "    Data include of 284807 rows and 31 columns where 1081 rows are duplicate which is being dropped.\n",
    "    Target variable is Class whichi is highly imbalance with 0.17% fraud and 99.83% is not fraud, if we work further \n",
    "    with this class we will definitly get our model bais with customer is not fraud, thus we have to use method\n",
    "    like SMOTE to make our MODEL effecient.\n",
    "    Due to privacy reason the data set all the features except time and amount went through PCA transformation, hence all V featues are previously  scaled.\n",
    "    lets see the distribution of time and amount to chek how skewed they are"
   ]
  },
  {
   "cell_type": "code",
   "execution_count": 14,
   "id": "7f6ab9af",
   "metadata": {},
   "outputs": [
    {
     "name": "stdout",
     "output_type": "stream",
     "text": [
      "Skeweness of Time -0.03558064623598194\n",
      "Skeweness of Amount 16.978803370060476\n"
     ]
    }
   ],
   "source": [
    "print('Skeweness of Time',df_CD['Time'].skew())\n",
    "print('Skeweness of Amount',df_CD['Amount'].skew())"
   ]
  },
  {
   "cell_type": "code",
   "execution_count": 15,
   "id": "f568ac83",
   "metadata": {},
   "outputs": [
    {
     "data": {
      "text/plain": [
       "<AxesSubplot:xlabel='Amount'>"
      ]
     },
     "execution_count": 15,
     "metadata": {},
     "output_type": "execute_result"
    },
    {
     "data": {
      "image/png": "[encoded data removed]",
      "text/plain": [
       "<Figure size 720x720 with 4 Axes>"
      ]
     },
     "metadata": {
      "needs_background": "light"
     },
     "output_type": "display_data"
    }
   ],
   "source": [
    "plt.figure(figsize=(10,10))\n",
    "plt.subplot(2,2,1)\n",
    "sns.histplot(x=df_CD['Time'],kde=True)\n",
    "plt.subplot(2,2,2)\n",
    "sns.boxplot(x=df_CD['Time'])\n",
    "plt.subplot(2,2,3)\n",
    "sns.histplot(x=df_CD['Amount'],kde=True)\n",
    "plt.subplot(2,2,4)\n",
    "sns.boxplot(x=df_CD['Amount'])"
   ]
  },
  {
   "cell_type": "code",
   "execution_count": 16,
   "id": "c54696b1",
   "metadata": {},
   "outputs": [
    {
     "data": {
      "text/plain": [
       "(0.0, 10000.0)"
      ]
     },
     "execution_count": 16,
     "metadata": {},
     "output_type": "execute_result"
    },
    {
     "data": {
      "image/png": "[encoded data removed]",
      "text/plain": [
       "<Figure size 720x360 with 1 Axes>"
      ]
     },
     "metadata": {
      "needs_background": "light"
     },
     "output_type": "display_data"
    }
   ],
   "source": [
    "plt.figure(figsize=(10,5))\n",
    "sns.histplot(x=df_CD['Amount'],binwidth=500)\n",
    "plt.ylim(0,10000)"
   ]
  },
  {
   "cell_type": "code",
   "execution_count": 17,
   "id": "9f5b5396",
   "metadata": {},
   "outputs": [],
   "source": [
    "#Amount feeature is riight skewed with outlier so we will be using ROBUST Scaling method to\n",
    "#scale the data, it will use median and IQR instead of mean and STD \n",
    "\n",
    "from sklearn.preprocessing import RobustScaler\n",
    "\n",
    "rs = RobustScaler()\n",
    "scaled_time = rs.fit_transform(df_CD['Time'].values.reshape(-1,1))\n",
    "scaled_amount = rs.fit_transform(df_CD['Amount'].values.reshape(-1,1))"
   ]
  },
  {
   "cell_type": "code",
   "execution_count": 18,
   "id": "2e295103",
   "metadata": {},
   "outputs": [],
   "source": [
    "# now lets add thes 2 array to df and remove the previous unscaled columns\n",
    "#also these added column to be diisplayed in the begning \n",
    "\n",
    "df_CD.insert(0,'Scaled_Time',scaled_time)\n",
    "df_CD.insert(1,'Scaled_Amount',scaled_amount)\n",
    "\n",
    "df_CD.drop(['Time','Amount'],axis=1,inplace=True)"
   ]
  },
  {
   "cell_type": "code",
   "execution_count": 19,
   "id": "437396eb",
   "metadata": {
    "scrolled": true
   },
   "outputs": [
    {
     "data": {
      "text/html": [
       "<div>\n",
       "<style scoped>\n",
       "    .dataframe tbody tr th:only-of-type {\n",
       "        vertical-align: middle;\n",
       "    }\n",
       "\n",
       "    .dataframe tbody tr th {\n",
       "        vertical-align: top;\n",
       "    }\n",
       "\n",
       "    .dataframe thead th {\n",
       "        text-align: right;\n",
       "    }\n",
       "</style>\n",
       "<table border=\"1\" class=\"dataframe\">\n",
       "  <thead>\n",
       "    <tr style=\"text-align: right;\">\n",
       "      <th></th>\n",
       "      <th>Scaled_Time</th>\n",
       "      <th>Scaled_Amount</th>\n",
       "      <th>V1</th>\n",
       "      <th>V2</th>\n",
       "      <th>V3</th>\n",
       "      <th>V4</th>\n",
       "      <th>V5</th>\n",
       "      <th>V6</th>\n",
       "      <th>V7</th>\n",
       "      <th>V8</th>\n",
       "      <th>V9</th>\n",
       "      <th>V10</th>\n",
       "      <th>V11</th>\n",
       "      <th>V12</th>\n",
       "      <th>V13</th>\n",
       "      <th>V14</th>\n",
       "      <th>V15</th>\n",
       "      <th>V16</th>\n",
       "      <th>V17</th>\n",
       "      <th>V18</th>\n",
       "      <th>V19</th>\n",
       "      <th>V20</th>\n",
       "      <th>V21</th>\n",
       "      <th>V22</th>\n",
       "      <th>V23</th>\n",
       "      <th>V24</th>\n",
       "      <th>V25</th>\n",
       "      <th>V26</th>\n",
       "      <th>V27</th>\n",
       "      <th>V28</th>\n",
       "      <th>Class</th>\n",
       "    </tr>\n",
       "  </thead>\n",
       "  <tbody>\n",
       "    <tr>\n",
       "      <th>0</th>\n",
       "      <td>-0.995290</td>\n",
       "      <td>1.774718</td>\n",
       "      <td>-1.359807</td>\n",
       "      <td>-0.072781</td>\n",
       "      <td>2.536347</td>\n",
       "      <td>1.378155</td>\n",
       "      <td>-0.338321</td>\n",
       "      <td>0.462388</td>\n",
       "      <td>0.239599</td>\n",
       "      <td>0.098698</td>\n",
       "      <td>0.363787</td>\n",
       "      <td>0.090794</td>\n",
       "      <td>-0.551600</td>\n",
       "      <td>-0.617801</td>\n",
       "      <td>-0.991390</td>\n",
       "      <td>-0.311169</td>\n",
       "      <td>1.468177</td>\n",
       "      <td>-0.470401</td>\n",
       "      <td>0.207971</td>\n",
       "      <td>0.025791</td>\n",
       "      <td>0.403993</td>\n",
       "      <td>0.251412</td>\n",
       "      <td>-0.018307</td>\n",
       "      <td>0.277838</td>\n",
       "      <td>-0.110474</td>\n",
       "      <td>0.066928</td>\n",
       "      <td>0.128539</td>\n",
       "      <td>-0.189115</td>\n",
       "      <td>0.133558</td>\n",
       "      <td>-0.021053</td>\n",
       "      <td>0</td>\n",
       "    </tr>\n",
       "    <tr>\n",
       "      <th>1</th>\n",
       "      <td>-0.995290</td>\n",
       "      <td>-0.268530</td>\n",
       "      <td>1.191857</td>\n",
       "      <td>0.266151</td>\n",
       "      <td>0.166480</td>\n",
       "      <td>0.448154</td>\n",
       "      <td>0.060018</td>\n",
       "      <td>-0.082361</td>\n",
       "      <td>-0.078803</td>\n",
       "      <td>0.085102</td>\n",
       "      <td>-0.255425</td>\n",
       "      <td>-0.166974</td>\n",
       "      <td>1.612727</td>\n",
       "      <td>1.065235</td>\n",
       "      <td>0.489095</td>\n",
       "      <td>-0.143772</td>\n",
       "      <td>0.635558</td>\n",
       "      <td>0.463917</td>\n",
       "      <td>-0.114805</td>\n",
       "      <td>-0.183361</td>\n",
       "      <td>-0.145783</td>\n",
       "      <td>-0.069083</td>\n",
       "      <td>-0.225775</td>\n",
       "      <td>-0.638672</td>\n",
       "      <td>0.101288</td>\n",
       "      <td>-0.339846</td>\n",
       "      <td>0.167170</td>\n",
       "      <td>0.125895</td>\n",
       "      <td>-0.008983</td>\n",
       "      <td>0.014724</td>\n",
       "      <td>0</td>\n",
       "    </tr>\n",
       "    <tr>\n",
       "      <th>2</th>\n",
       "      <td>-0.995279</td>\n",
       "      <td>4.959811</td>\n",
       "      <td>-1.358354</td>\n",
       "      <td>-1.340163</td>\n",
       "      <td>1.773209</td>\n",
       "      <td>0.379780</td>\n",
       "      <td>-0.503198</td>\n",
       "      <td>1.800499</td>\n",
       "      <td>0.791461</td>\n",
       "      <td>0.247676</td>\n",
       "      <td>-1.514654</td>\n",
       "      <td>0.207643</td>\n",
       "      <td>0.624501</td>\n",
       "      <td>0.066084</td>\n",
       "      <td>0.717293</td>\n",
       "      <td>-0.165946</td>\n",
       "      <td>2.345865</td>\n",
       "      <td>-2.890083</td>\n",
       "      <td>1.109969</td>\n",
       "      <td>-0.121359</td>\n",
       "      <td>-2.261857</td>\n",
       "      <td>0.524980</td>\n",
       "      <td>0.247998</td>\n",
       "      <td>0.771679</td>\n",
       "      <td>0.909412</td>\n",
       "      <td>-0.689281</td>\n",
       "      <td>-0.327642</td>\n",
       "      <td>-0.139097</td>\n",
       "      <td>-0.055353</td>\n",
       "      <td>-0.059752</td>\n",
       "      <td>0</td>\n",
       "    </tr>\n",
       "    <tr>\n",
       "      <th>3</th>\n",
       "      <td>-0.995279</td>\n",
       "      <td>1.411487</td>\n",
       "      <td>-0.966272</td>\n",
       "      <td>-0.185226</td>\n",
       "      <td>1.792993</td>\n",
       "      <td>-0.863291</td>\n",
       "      <td>-0.010309</td>\n",
       "      <td>1.247203</td>\n",
       "      <td>0.237609</td>\n",
       "      <td>0.377436</td>\n",
       "      <td>-1.387024</td>\n",
       "      <td>-0.054952</td>\n",
       "      <td>-0.226487</td>\n",
       "      <td>0.178228</td>\n",
       "      <td>0.507757</td>\n",
       "      <td>-0.287924</td>\n",
       "      <td>-0.631418</td>\n",
       "      <td>-1.059647</td>\n",
       "      <td>-0.684093</td>\n",
       "      <td>1.965775</td>\n",
       "      <td>-1.232622</td>\n",
       "      <td>-0.208038</td>\n",
       "      <td>-0.108300</td>\n",
       "      <td>0.005274</td>\n",
       "      <td>-0.190321</td>\n",
       "      <td>-1.175575</td>\n",
       "      <td>0.647376</td>\n",
       "      <td>-0.221929</td>\n",
       "      <td>0.062723</td>\n",
       "      <td>0.061458</td>\n",
       "      <td>0</td>\n",
       "    </tr>\n",
       "    <tr>\n",
       "      <th>4</th>\n",
       "      <td>-0.995267</td>\n",
       "      <td>0.667362</td>\n",
       "      <td>-1.158233</td>\n",
       "      <td>0.877737</td>\n",
       "      <td>1.548718</td>\n",
       "      <td>0.403034</td>\n",
       "      <td>-0.407193</td>\n",
       "      <td>0.095921</td>\n",
       "      <td>0.592941</td>\n",
       "      <td>-0.270533</td>\n",
       "      <td>0.817739</td>\n",
       "      <td>0.753074</td>\n",
       "      <td>-0.822843</td>\n",
       "      <td>0.538196</td>\n",
       "      <td>1.345852</td>\n",
       "      <td>-1.119670</td>\n",
       "      <td>0.175121</td>\n",
       "      <td>-0.451449</td>\n",
       "      <td>-0.237033</td>\n",
       "      <td>-0.038195</td>\n",
       "      <td>0.803487</td>\n",
       "      <td>0.408542</td>\n",
       "      <td>-0.009431</td>\n",
       "      <td>0.798278</td>\n",
       "      <td>-0.137458</td>\n",
       "      <td>0.141267</td>\n",
       "      <td>-0.206010</td>\n",
       "      <td>0.502292</td>\n",
       "      <td>0.219422</td>\n",
       "      <td>0.215153</td>\n",
       "      <td>0</td>\n",
       "    </tr>\n",
       "  </tbody>\n",
       "</table>\n",
       "</div>"
      ],
      "text/plain": [
       "   Scaled_Time  Scaled_Amount        V1        V2        V3        V4  \\\n",
       "0    -0.995290       1.774718 -1.359807 -0.072781  2.536347  1.378155   \n",
       "1    -0.995290      -0.268530  1.191857  0.266151  0.166480  0.448154   \n",
       "2    -0.995279       4.959811 -1.358354 -1.340163  1.773209  0.379780   \n",
       "3    -0.995279       1.411487 -0.966272 -0.185226  1.792993 -0.863291   \n",
       "4    -0.995267       0.667362 -1.158233  0.877737  1.548718  0.403034   \n",
       "\n",
       "         V5        V6        V7        V8        V9       V10       V11  \\\n",
       "0 -0.338321  0.462388  0.239599  0.098698  0.363787  0.090794 -0.551600   \n",
       "1  0.060018 -0.082361 -0.078803  0.085102 -0.255425 -0.166974  1.612727   \n",
       "2 -0.503198  1.800499  0.791461  0.247676 -1.514654  0.207643  0.624501   \n",
       "3 -0.010309  1.247203  0.237609  0.377436 -1.387024 -0.054952 -0.226487   \n",
       "4 -0.407193  0.095921  0.592941 -0.270533  0.817739  0.753074 -0.822843   \n",
       "\n",
       "        V12       V13       V14       V15       V16       V17       V18  \\\n",
       "0 -0.617801 -0.991390 -0.311169  1.468177 -0.470401  0.207971  0.025791   \n",
       "1  1.065235  0.489095 -0.143772  0.635558  0.463917 -0.114805 -0.183361   \n",
       "2  0.066084  0.717293 -0.165946  2.345865 -2.890083  1.109969 -0.121359   \n",
       "3  0.178228  0.507757 -0.287924 -0.631418 -1.059647 -0.684093  1.965775   \n",
       "4  0.538196  1.345852 -1.119670  0.175121 -0.451449 -0.237033 -0.038195   \n",
       "\n",
       "        V19       V20       V21       V22       V23       V24       V25  \\\n",
       "0  0.403993  0.251412 -0.018307  0.277838 -0.110474  0.066928  0.128539   \n",
       "1 -0.145783 -0.069083 -0.225775 -0.638672  0.101288 -0.339846  0.167170   \n",
       "2 -2.261857  0.524980  0.247998  0.771679  0.909412 -0.689281 -0.327642   \n",
       "3 -1.232622 -0.208038 -0.108300  0.005274 -0.190321 -1.175575  0.647376   \n",
       "4  0.803487  0.408542 -0.009431  0.798278 -0.137458  0.141267 -0.206010   \n",
       "\n",
       "        V26       V27       V28  Class  \n",
       "0 -0.189115  0.133558 -0.021053      0  \n",
       "1  0.125895 -0.008983  0.014724      0  \n",
       "2 -0.139097 -0.055353 -0.059752      0  \n",
       "3 -0.221929  0.062723  0.061458      0  \n",
       "4  0.502292  0.219422  0.215153      0  "
      ]
     },
     "execution_count": 19,
     "metadata": {},
     "output_type": "execute_result"
    }
   ],
   "source": [
    "df_CD.head()"
   ]
  },
  {
   "cell_type": "raw",
   "id": "fb2e99d7",
   "metadata": {},
   "source": [
    "#Model building process\n",
    "#will be using SMOTE for balanciing the class"
   ]
  },
  {
   "cell_type": "code",
   "execution_count": 20,
   "id": "10d9bf26",
   "metadata": {},
   "outputs": [],
   "source": [
    "#Without SMOTE\n",
    "from sklearn.model_selection import train_test_split\n",
    "from sklearn.linear_model import LogisticRegression\n",
    "from sklearn.metrics import confusion_matrix,classification_report,roc_auc_score,plot_confusion_matrix"
   ]
  },
  {
   "cell_type": "code",
   "execution_count": 21,
   "id": "93bc88c9",
   "metadata": {},
   "outputs": [],
   "source": [
    "X = df_CD.drop(['Class'],axis=1)\n",
    "Y = df_CD[['Class']]"
   ]
  },
  {
   "cell_type": "code",
   "execution_count": 22,
   "id": "56ad2195",
   "metadata": {},
   "outputs": [],
   "source": [
    "#here straatify is used so that the biasness will be reduced \n",
    "#https://dragonforest.in/stratify/\n",
    "X_train, X_test, y_train, y_test = train_test_split(X, Y, test_size=0.20, random_state=0,stratify=Y)"
   ]
  },
  {
   "cell_type": "code",
   "execution_count": 23,
   "id": "7bbd7d39",
   "metadata": {},
   "outputs": [
    {
     "name": "stdout",
     "output_type": "stream",
     "text": [
      "(226980, 30)\n",
      "(226980, 1)\n",
      "(56746, 30)\n",
      "(56746, 1)\n"
     ]
    }
   ],
   "source": [
    "print(X_train.shape)\n",
    "print(y_train.shape)\n",
    "print(X_test.shape)\n",
    "print(y_test.shape)"
   ]
  },
  {
   "cell_type": "code",
   "execution_count": 24,
   "id": "13e808d5",
   "metadata": {},
   "outputs": [],
   "source": [
    "LR = LogisticRegression()\n",
    "Model_LR = LR.fit(X_train,y_train)"
   ]
  },
  {
   "cell_type": "code",
   "execution_count": 25,
   "id": "012200d5",
   "metadata": {},
   "outputs": [
    {
     "name": "stdout",
     "output_type": "stream",
     "text": [
      "[[226567     35]\n",
      " [   152    226]]\n",
      "              precision    recall  f1-score   support\n",
      "\n",
      "           0       1.00      1.00      1.00    226602\n",
      "           1       0.87      0.60      0.71       378\n",
      "\n",
      "    accuracy                           1.00    226980\n",
      "   macro avg       0.93      0.80      0.85    226980\n",
      "weighted avg       1.00      1.00      1.00    226980\n",
      "\n"
     ]
    },
    {
     "data": {
      "text/plain": [
       "<sklearn.metrics._plot.confusion_matrix.ConfusionMatrixDisplay at 0x7fcdcda9f7f0>"
      ]
     },
     "execution_count": 25,
     "metadata": {},
     "output_type": "execute_result"
    },
    {
     "data": {
      "image/png": "[encoded data removed]",
      "text/plain": [
       "<Figure size 432x288 with 2 Axes>"
      ]
     },
     "metadata": {
      "needs_background": "light"
     },
     "output_type": "display_data"
    }
   ],
   "source": [
    "#train data \n",
    "y_predict_train = Model_LR.predict(X_train)\n",
    "#report check\n",
    "print(confusion_matrix(y_train,y_predict_train))\n",
    "print(classification_report(y_train,y_predict_train))\n",
    "plot_confusion_matrix(Model_LR,X_train,y_train)"
   ]
  },
  {
   "cell_type": "code",
   "execution_count": 26,
   "id": "f18cd4b0",
   "metadata": {},
   "outputs": [
    {
     "name": "stdout",
     "output_type": "stream",
     "text": [
      "[[56644     7]\n",
      " [   37    58]]\n",
      "              precision    recall  f1-score   support\n",
      "\n",
      "           0       1.00      1.00      1.00     56651\n",
      "           1       0.89      0.61      0.72        95\n",
      "\n",
      "    accuracy                           1.00     56746\n",
      "   macro avg       0.95      0.81      0.86     56746\n",
      "weighted avg       1.00      1.00      1.00     56746\n",
      "\n"
     ]
    },
    {
     "data": {
      "text/plain": [
       "<sklearn.metrics._plot.confusion_matrix.ConfusionMatrixDisplay at 0x7fcdd5207a00>"
      ]
     },
     "execution_count": 26,
     "metadata": {},
     "output_type": "execute_result"
    },
    {
     "data": {
      "image/png": "[encoded data removed]",
      "text/plain": [
       "<Figure size 432x288 with 2 Axes>"
      ]
     },
     "metadata": {
      "needs_background": "light"
     },
     "output_type": "display_data"
    }
   ],
   "source": [
    "#Test data \n",
    "y_predict_test = Model_LR.predict(X_test)\n",
    "#report check\n",
    "print(confusion_matrix(y_test,y_predict_test))\n",
    "print(classification_report(y_test,y_predict_test))\n",
    "plot_confusion_matrix(Model_LR,X_test,y_test)\n"
   ]
  },
  {
   "cell_type": "raw",
   "id": "c6272b5f",
   "metadata": {},
   "source": [
    "#here what we haave to calculate act as positive i.e fraud is +ve and non fraud is -ve,thus\n",
    "#actual +ve(fraud-1), predicted(non fraud-0)-ve = Recall = 37\n",
    "#actual -ve(non fraud-0), predicted(fraud-1)+ve = Precision = 7\n",
    "#This shows our Model is not performing well for predictiting fraud transaction 37 should be less\n",
    "#lets check classification report to get better understanding\n",
    "#here we can see model is able to predict non fraud case in all aspect recall, precision and F1\n",
    "#but unable for fraud case(1), although preciision is high and recall is low that is due to \n",
    "precision recall trade off,(((89% of the time our model says the transaction is fraud & actually \n",
    "its fraud)))), where as 61% of the time model predicted fraud as a notfraud (it should be higher)\n",
    "As F1 score is the harmonic mean of precision and recall it solve the tradeoff of recal and \n",
    "precision,the f1 score is also less for fraud case, \n",
    "lets try to increase the score.\n",
    "\n",
    "Lets use SMOTE aand check the scoree"
   ]
  },
  {
   "cell_type": "code",
   "execution_count": 27,
   "id": "6d09fbda",
   "metadata": {},
   "outputs": [
    {
     "name": "stdout",
     "output_type": "stream",
     "text": [
      "AUC Score is: 0.8052013761080076\n"
     ]
    }
   ],
   "source": [
    "print('AUC Score is:', roc_auc_score(y_test,y_predict_test))"
   ]
  },
  {
   "cell_type": "raw",
   "id": "a35230da",
   "metadata": {},
   "source": [
    "Auc score higher is better as it tells how much chance a model is able to distinguish +ve as\n",
    "+ve and -ve as -ve,By using Logistic Regression without SMOTE the model will be able to distinguish\n",
    "between '+' and '-' classes 80% of times."
   ]
  },
  {
   "cell_type": "markdown",
   "id": "1f099bfe",
   "metadata": {},
   "source": [
    "# SMOOTE MODEL\n",
    "\n"
   ]
  },
  {
   "cell_type": "code",
   "execution_count": 28,
   "id": "d5b93290",
   "metadata": {},
   "outputs": [],
   "source": [
    "#apply smote to the data \n",
    "from imblearn.over_sampling import SMOTE\n",
    "sm = SMOTE(random_state = 2)\n",
    "X_train_S,y_train_S = sm.fit_resample(X_train,y_train)"
   ]
  },
  {
   "cell_type": "code",
   "execution_count": 29,
   "id": "54476fa0",
   "metadata": {},
   "outputs": [
    {
     "name": "stdout",
     "output_type": "stream",
     "text": [
      "before applying SMOTE X_train: (226980, 30)\n",
      "before applying SMOTE y_train: (226980, 1)\n",
      "before applying SMOTE class percentage fraud: 0.0016653449643140364\n",
      "before applying SMOTE X_test: (56746, 30)\n",
      "before applying SMOTE y_test: (56746, 1)\n",
      "\n",
      "count of class: fraud(1),not fraud(0): Class\n",
      "0        226602\n",
      "1           378\n",
      "dtype: int64\n",
      "\n",
      "after applying SMOTE X_train: (453204, 30)\n",
      "after applying SMOTE y_train: (453204, 1)\n",
      "\n",
      "count of class after aplying SMOTE: fraud(1),not fraud(0): Class\n",
      "0        226602\n",
      "1        226602\n",
      "dtype: int64\n",
      "\n",
      "percentage of class-0-fraud after aplying SMOTE: 0.5\n",
      "percentage of class-1-fraud after aplying SMOTE: 0.5\n"
     ]
    }
   ],
   "source": [
    "print('before applying SMOTE X_train:',X_train.shape)\n",
    "print('before applying SMOTE y_train:',y_train.shape)\n",
    "print('before applying SMOTE class percentage fraud:',y_train.value_counts().values[1]/len(y_train))\n",
    "print('before applying SMOTE X_test:',X_test.shape)\n",
    "print('before applying SMOTE y_test:',y_test.shape)\n",
    "print()\n",
    "print('count of class: fraud(1),not fraud(0):',y_train.value_counts())\n",
    "print()\n",
    "print('after applying SMOTE X_train:',X_train_S.shape)\n",
    "print('after applying SMOTE y_train:',y_train_S.shape)\n",
    "print()\n",
    "print('count of class after aplying SMOTE: fraud(1),not fraud(0):',y_train_S.value_counts())\n",
    "print()\n",
    "print('percentage of class-0-fraud after aplying SMOTE:',y_train_S.value_counts().values[0]/len(y_train_S))\n",
    "print('percentage of class-1-fraud after aplying SMOTE:',y_train_S.value_counts().values[1]/len(y_train_S))"
   ]
  },
  {
   "cell_type": "code",
   "execution_count": 30,
   "id": "52a94833",
   "metadata": {},
   "outputs": [],
   "source": [
    "#Thus we can see the data is equally distributed after using SMOTE now lets work on\n",
    "#model buildiing wiith new train data\n",
    "LR_MODEL_SMOTE = LR.fit(X_train_S,y_train_S)"
   ]
  },
  {
   "cell_type": "code",
   "execution_count": 31,
   "id": "4f47dfd6",
   "metadata": {},
   "outputs": [],
   "source": [
    "#on SMOTE TRAIN DATA MODEL ACCURACY\n",
    "#y_pred_S = LR_MODEL_SMOTE.predict(X_train_S)\n",
    "#print(confusion_matrix(y_train_S,y_pred_S))\n",
    "#print(classification_report(y_train_S,y_pred_S))\n",
    "#plot_confusion_matrix(LR_MODEL_SMOTE,X_train_S,y_train_S)"
   ]
  },
  {
   "cell_type": "code",
   "execution_count": 32,
   "id": "fe188947",
   "metadata": {},
   "outputs": [],
   "source": [
    "#SMOOTE MODEL TESTING ON TEST DATA\n",
    "y_predict_test_S = LR_MODEL_SMOTE.predict(X_test)"
   ]
  },
  {
   "cell_type": "code",
   "execution_count": 33,
   "id": "904ee2ee",
   "metadata": {},
   "outputs": [
    {
     "name": "stdout",
     "output_type": "stream",
     "text": [
      "[[55107  1544]\n",
      " [    9    86]]\n",
      "              precision    recall  f1-score   support\n",
      "\n",
      "           0       1.00      0.97      0.99     56651\n",
      "           1       0.05      0.91      0.10        95\n",
      "\n",
      "    accuracy                           0.97     56746\n",
      "   macro avg       0.53      0.94      0.54     56746\n",
      "weighted avg       1.00      0.97      0.98     56746\n",
      "\n"
     ]
    },
    {
     "data": {
      "text/plain": [
       "<sklearn.metrics._plot.confusion_matrix.ConfusionMatrixDisplay at 0x7fcdd58e57f0>"
      ]
     },
     "execution_count": 33,
     "metadata": {},
     "output_type": "execute_result"
    },
    {
     "data": {
      "image/png": "[encoded data removed]",
      "text/plain": [
       "<Figure size 432x288 with 2 Axes>"
      ]
     },
     "metadata": {
      "needs_background": "light"
     },
     "output_type": "display_data"
    }
   ],
   "source": [
    "print(confusion_matrix(y_test,y_predict_test_S))\n",
    "print(classification_report(y_test,y_predict_test_S))\n",
    "plot_confusion_matrix(LR_MODEL_SMOTE,X_test,y_test)"
   ]
  },
  {
   "cell_type": "code",
   "execution_count": 34,
   "id": "6f194066",
   "metadata": {},
   "outputs": [
    {
     "name": "stdout",
     "output_type": "stream",
     "text": [
      "AUC Score after SMOTE is: 0.9390042819887976\n"
     ]
    }
   ],
   "source": [
    "print('AUC Score after SMOTE is:', roc_auc_score(y_test,y_predict_test_S))"
   ]
  },
  {
   "cell_type": "markdown",
   "id": "352c3de3",
   "metadata": {},
   "source": [
    "#SUMMARRY\n",
    "here we can observe the model predicted non fraud as fraud increased (1544:FP:Pre) and\n",
    "acually fraud but predicted non fraud has be decreased(9:FN:Re)\n",
    "RECALL value is increased that means after SMOTE model is able to detect fraud as fraud but \n",
    "PRECISION has drastically decreased that means MODEL has classified non fraud as fraud which\n",
    "is not good at all.\n",
    "\n",
    "Although the AUC score is increased from 80 to 93 but this is due to high number of correct \n",
    "predictions for the negative class.\n",
    "\n",
    "NOW LETS CHECK ON ANOTHER ML ALGORITHM"
   ]
  },
  {
   "cell_type": "code",
   "execution_count": 35,
   "id": "2a81508e",
   "metadata": {},
   "outputs": [],
   "source": [
    "#RANDOM FOREST USING SMOTE\n",
    "from sklearn.ensemble import RandomForestClassifier"
   ]
  },
  {
   "cell_type": "code",
   "execution_count": 36,
   "id": "aff6297e",
   "metadata": {},
   "outputs": [],
   "source": [
    "RFC=RandomForestClassifier(n_estimators=100)"
   ]
  },
  {
   "cell_type": "code",
   "execution_count": 37,
   "id": "ceff3eb5",
   "metadata": {},
   "outputs": [],
   "source": [
    "RFC_Model_S = RFC.fit(X_train_S,y_train_S)"
   ]
  },
  {
   "cell_type": "code",
   "execution_count": 38,
   "id": "d5e2fc19",
   "metadata": {},
   "outputs": [],
   "source": [
    "y_predict_test_S = RFC_Model_S.predict(X_test)"
   ]
  },
  {
   "cell_type": "code",
   "execution_count": 39,
   "id": "f5c69e71",
   "metadata": {},
   "outputs": [
    {
     "name": "stdout",
     "output_type": "stream",
     "text": [
      "[[56646     5]\n",
      " [   16    79]]\n",
      "              precision    recall  f1-score   support\n",
      "\n",
      "           0       1.00      1.00      1.00     56651\n",
      "           1       0.94      0.83      0.88        95\n",
      "\n",
      "    accuracy                           1.00     56746\n",
      "   macro avg       0.97      0.92      0.94     56746\n",
      "weighted avg       1.00      1.00      1.00     56746\n",
      "\n"
     ]
    },
    {
     "data": {
      "text/plain": [
       "<sklearn.metrics._plot.confusion_matrix.ConfusionMatrixDisplay at 0x7fcdca28acd0>"
      ]
     },
     "execution_count": 39,
     "metadata": {},
     "output_type": "execute_result"
    },
    {
     "data": {
      "image/png": "[encoded data removed]",
      "text/plain": [
       "<Figure size 432x288 with 2 Axes>"
      ]
     },
     "metadata": {
      "needs_background": "light"
     },
     "output_type": "display_data"
    }
   ],
   "source": [
    "print(confusion_matrix(y_test,y_predict_test_S))\n",
    "print(classification_report(y_test,y_predict_test_S))\n",
    "plot_confusion_matrix(RFC_Model_S,X_test,y_test)"
   ]
  },
  {
   "cell_type": "code",
   "execution_count": 41,
   "id": "86c3783c",
   "metadata": {},
   "outputs": [
    {
     "name": "stdout",
     "output_type": "stream",
     "text": [
      "AUC Score for RFC after SMOTE is: 0.9157453438365467\n"
     ]
    }
   ],
   "source": [
    "print('AUC Score for RFC after SMOTE is:', roc_auc_score(y_test,y_predict_test_S))"
   ]
  },
  {
   "cell_type": "markdown",
   "id": "0b6ef0be",
   "metadata": {},
   "source": [
    "I think we have found a better model than Logistic Regression with Smote, \n",
    "precision value increasead by a hug margin to 0.94 but the value of recall decreased to 0.83.\n",
    "F1-score becomes 0.88 which is the best we have got so far. False Negatives(16) decreased and \n",
    "False Positives(5) have also decreased which means that our model have made only 21 wrong predictions.\n",
    "Let's experiment more to get better results.\n"
   ]
  },
  {
   "cell_type": "code",
   "execution_count": 45,
   "id": "fa61777c",
   "metadata": {},
   "outputs": [
    {
     "name": "stdout",
     "output_type": "stream",
     "text": [
      "Collecting xgboost\n",
      "  Downloading xgboost-2.0.3-py3-none-macosx_10_15_x86_64.macosx_11_0_x86_64.macosx_12_0_x86_64.whl (2.2 MB)\n",
      "\u001b[K     |████████████████████████████████| 2.2 MB 4.2 MB/s eta 0:00:01\n",
      "\u001b[?25hRequirement already satisfied: numpy in /opt/anaconda3/lib/python3.9/site-packages (from xgboost) (1.21.5)\n",
      "Requirement already satisfied: scipy in /opt/anaconda3/lib/python3.9/site-packages (from xgboost) (1.7.3)\n",
      "Installing collected packages: xgboost\n",
      "Successfully installed xgboost-2.0.3\n",
      "Note: you may need to restart the kernel to use updated packages.\n"
     ]
    }
   ],
   "source": [
    "pip install xgboost\n"
   ]
  },
  {
   "cell_type": "code",
   "execution_count": 48,
   "id": "c8b2f86a",
   "metadata": {},
   "outputs": [],
   "source": [
    "#XG-Boost\n",
    "from xgboost import XGBClassifier"
   ]
  },
  {
   "cell_type": "code",
   "execution_count": null,
   "id": "daae9edf",
   "metadata": {},
   "outputs": [],
   "source": [
    "#xgbc = XGBClassifier(n_estimators = 1000, verbosity = 1, scale_pos_weight = 580)\n",
    "\n",
    "#xgbc.fit(X_train, y_train)\n"
   ]
  },
  {
   "cell_type": "code",
   "execution_count": 49,
   "id": "b8334d91",
   "metadata": {},
   "outputs": [],
   "source": [
    "xgb=XGBClassifier(n_estimators=1000,scale_pos_weight= 600) #ratio of -ve to +ve is 600 approx"
   ]
  },
  {
   "cell_type": "code",
   "execution_count": 50,
   "id": "c466aca4",
   "metadata": {},
   "outputs": [],
   "source": [
    "XGB_Model = xgb.fit(X_train,y_train)"
   ]
  },
  {
   "cell_type": "code",
   "execution_count": 51,
   "id": "25e39a8b",
   "metadata": {},
   "outputs": [],
   "source": [
    "y_predict_test = XGB_Model.predict(X_test)"
   ]
  },
  {
   "cell_type": "code",
   "execution_count": 53,
   "id": "7181a54f",
   "metadata": {},
   "outputs": [
    {
     "name": "stdout",
     "output_type": "stream",
     "text": [
      "[[56646     5]\n",
      " [   14    81]]\n",
      "              precision    recall  f1-score   support\n",
      "\n",
      "           0       1.00      1.00      1.00     56651\n",
      "           1       0.94      0.85      0.90        95\n",
      "\n",
      "    accuracy                           1.00     56746\n",
      "   macro avg       0.97      0.93      0.95     56746\n",
      "weighted avg       1.00      1.00      1.00     56746\n",
      "\n"
     ]
    },
    {
     "data": {
      "text/plain": [
       "<sklearn.metrics._plot.confusion_matrix.ConfusionMatrixDisplay at 0x7fcda60565b0>"
      ]
     },
     "execution_count": 53,
     "metadata": {},
     "output_type": "execute_result"
    },
    {
     "data": {
      "image/png": "[encoded data removed]",
      "text/plain": [
       "<Figure size 432x288 with 2 Axes>"
      ]
     },
     "metadata": {
      "needs_background": "light"
     },
     "output_type": "display_data"
    }
   ],
   "source": [
    "print(confusion_matrix(y_test,y_predict_test))\n",
    "print(classification_report(y_test,y_predict_test))\n",
    "plot_confusion_matrix(XGB_Model,X_test,y_test)"
   ]
  },
  {
   "cell_type": "markdown",
   "id": "c9649f52",
   "metadata": {},
   "source": [
    "With XGB boost its great outcome, without using SMOTE we are gettiing good result than all. over all wrong predction\n",
    "is decreased from 21 to 19 also F1 is increased by 2 and so on.... \n",
    "\n",
    "Lets check the what all features are important and contributing more in output"
   ]
  },
  {
   "cell_type": "markdown",
   "id": "dc9ab5b0",
   "metadata": {},
   "source": [
    "\n",
    "There are about 30 features given in the dataset, as we don't know the names for 25 columns, \n",
    "we can't judge whether those features are related to the Class in real life. \n",
    "Let's try out various methods which can help us to decide some important features.\n",
    "\n",
    "First, let's check out the variance of each column.\n",
    "The simplest form of selecting features would be to remove features with very low variance. \n",
    "If the features have a very low variance, they are close to being constant and thus do not add any value \n",
    "to any model at all. It would just be nice to get rid of them and hence lower the complexity.\n",
    "\n",
    "\n",
    "Usually we delete those columns having variance less than 0.1, \n",
    "but here all features have column greater than 0.1 thus we will retain all the features"
   ]
  },
  {
   "cell_type": "code",
   "execution_count": 56,
   "id": "62da476d",
   "metadata": {},
   "outputs": [
    {
     "data": {
      "text/plain": [
       "Scaled_Time       0.311351\n",
       "Scaled_Amount    12.125178\n",
       "V1                3.794806\n",
       "V2                2.711631\n",
       "V3                2.276121\n",
       "V4                1.999916\n",
       "V5                1.896152\n",
       "V6                1.774039\n",
       "V7                1.507159\n",
       "V8                1.390169\n",
       "V9                1.200104\n",
       "V10               1.158653\n",
       "V11               1.037791\n",
       "V12               0.989377\n",
       "V13               0.990880\n",
       "V14               0.906714\n",
       "V15               0.837030\n",
       "V16               0.763345\n",
       "V17               0.709819\n",
       "V18               0.701201\n",
       "V19               0.661585\n",
       "V20               0.592876\n",
       "V21               0.524045\n",
       "V22               0.524973\n",
       "V23               0.389005\n",
       "V24               0.366784\n",
       "V25               0.271671\n",
       "V26               0.232375\n",
       "V27               0.156613\n",
       "V28               0.107601\n",
       "Class             0.001664\n",
       "dtype: float64"
      ]
     },
     "execution_count": 56,
     "metadata": {},
     "output_type": "execute_result"
    }
   ],
   "source": [
    "df_CD.var()\n",
    "#but here all features have column greater than 0.1 thus we will retain all the features"
   ]
  },
  {
   "cell_type": "markdown",
   "id": "faf0952d",
   "metadata": {},
   "source": [
    "Conclusion:\n",
    "    \n",
    "Good prediction results can be achieved with imbalanced datasets as well as with balanced ones\n",
    "Random Forest and XGBoost Classifiers gave us the best results being able to detect more than 80% \n",
    "fraud transactions and at the same time not classifying a lot of non-fraud transactions as fraud\n",
    "There is no perfect model and there will always be a trade-off between precision and recall.\n",
    "It is up to the company and its objectives to decide which approach is the best in each particular situation"
   ]
  },
  {
   "cell_type": "code",
   "execution_count": null,
   "id": "1dc57b65",
   "metadata": {},
   "outputs": [],
   "source": []
  }
 ],
 "metadata": {
  "kernelspec": {
   "display_name": "Python 3 (ipykernel)",
   "language": "python",
   "name": "python3"
  },
  "language_info": {
   "codemirror_mode": {
    "name": "ipython",
    "version": 3
   },
   "file_extension": ".py",
   "mimetype": "text/x-python",
   "name": "python",
   "nbconvert_exporter": "python",
   "pygments_lexer": "ipython3",
   "version": "3.9.12"
  }
 },
 "nbformat": 4,
 "nbformat_minor": 5
}
